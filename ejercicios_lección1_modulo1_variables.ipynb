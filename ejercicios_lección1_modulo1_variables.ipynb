{
 "cells": [
  {
   "cell_type": "code",
   "execution_count": 2,
   "id": "d4ac0eef",
   "metadata": {},
   "outputs": [],
   "source": [
    "gatos = 8"
   ]
  },
  {
   "cell_type": "markdown",
   "id": "36c9e107",
   "metadata": {},
   "source": [
    "perros = \"cuatro\""
   ]
  },
  {
   "cell_type": "code",
   "execution_count": 3,
   "id": "6f2c2144",
   "metadata": {},
   "outputs": [],
   "source": [
    "perros = \"cuatro\""
   ]
  },
  {
   "cell_type": "code",
   "execution_count": 4,
   "id": "12c77a83",
   "metadata": {},
   "outputs": [
    {
     "name": "stdout",
     "output_type": "stream",
     "text": [
      "8\n"
     ]
    }
   ],
   "source": [
    "print(gatos)"
   ]
  },
  {
   "cell_type": "code",
   "execution_count": 5,
   "id": "0fe7b2be",
   "metadata": {},
   "outputs": [
    {
     "name": "stdout",
     "output_type": "stream",
     "text": [
      "cuatro\n"
     ]
    }
   ],
   "source": [
    "print(perros)"
   ]
  },
  {
   "cell_type": "code",
   "execution_count": 6,
   "id": "53f5fe02",
   "metadata": {},
   "outputs": [
    {
     "name": "stdout",
     "output_type": "stream",
     "text": [
      "perros mas perros\n"
     ]
    }
   ],
   "source": [
    "print(\"perros\", \"mas\", \"perros\")"
   ]
  },
  {
   "cell_type": "code",
   "execution_count": 7,
   "id": "237e603e",
   "metadata": {},
   "outputs": [
    {
     "name": "stdout",
     "output_type": "stream",
     "text": [
      "cuatro más cuatro es igual a 8\n"
     ]
    }
   ],
   "source": [
    "perros = \"cuatro\"\n",
    "numero = 4\n",
    "\n",
    "resultado = perros + \" más \" + perros + \" es igual a \" + str(numero * 2)\n",
    "\n",
    "print(resultado)"
   ]
  },
  {
   "cell_type": "code",
   "execution_count": 8,
   "id": "970f5b91",
   "metadata": {},
   "outputs": [
    {
     "name": "stdout",
     "output_type": "stream",
     "text": [
      "cuatro + cuatro = 8\n"
     ]
    }
   ],
   "source": [
    "perros = \"cuatro\"\n",
    "numero = 4\n",
    "\n",
    "resultado = perros + \" + \" + perros + \" = \" + str(numero * 2)\n",
    "\n",
    "print(resultado)"
   ]
  },
  {
   "cell_type": "code",
   "execution_count": 2,
   "id": "9174a81f",
   "metadata": {},
   "outputs": [],
   "source": [
    "pizza = 2.0"
   ]
  },
  {
   "cell_type": "code",
   "execution_count": null,
   "id": "b596fa46",
   "metadata": {},
   "outputs": [
    {
     "ename": "TypeError",
     "evalue": "'float' object is not callable",
     "output_type": "error",
     "traceback": [
      "\u001b[0;31m---------------------------------------------------------------------------\u001b[0m",
      "\u001b[0;31mTypeError\u001b[0m                                 Traceback (most recent call last)",
      "Cell \u001b[0;32mIn[3], line 1\u001b[0m\n\u001b[0;32m----> 1\u001b[0m pizza(\u001b[38;5;28mtype\u001b[39m)\n",
      "\u001b[0;31mTypeError\u001b[0m: 'float' object is not callable"
     ]
    }
   ],
   "source": [
    "pizza(type)\n"
   ]
  },
  {
   "cell_type": "code",
   "execution_count": null,
   "id": "956244a0",
   "metadata": {},
   "outputs": [],
   "source": [
    "magdalenas = \"2\""
   ]
  },
  {
   "cell_type": "code",
   "execution_count": null,
   "id": "0c69090a",
   "metadata": {},
   "outputs": [],
   "source": [
    "postres = 0"
   ]
  },
  {
   "cell_type": "markdown",
   "id": "b5d6c6fb",
   "metadata": {},
   "source": [
    "\n",
    "¿Qué tipo de dato es la variable pizzas? es float, pero puede ser int"
   ]
  },
  {
   "cell_type": "markdown",
   "id": "5dccc62e",
   "metadata": {},
   "source": [
    "¿Es la variable magdalenas de tipo string? si"
   ]
  },
  {
   "cell_type": "code",
   "execution_count": null,
   "id": "484b005d",
   "metadata": {},
   "outputs": [],
   "source": [
    "postres = 0"
   ]
  },
  {
   "cell_type": "code",
   "execution_count": null,
   "id": "c2b798e6",
   "metadata": {},
   "outputs": [
    {
     "name": "stdout",
     "output_type": "stream",
     "text": [
      "10.0\n"
     ]
    }
   ],
   "source": [
    "suma1 = gatos + pizza\n",
    "\n",
    "print(suma1)"
   ]
  },
  {
   "cell_type": "code",
   "execution_count": null,
   "id": "9bbfff57",
   "metadata": {},
   "outputs": [
    {
     "name": "stdout",
     "output_type": "stream",
     "text": [
      "6.0\n"
     ]
    }
   ],
   "source": [
    "resta1 = gatos - pizza\n",
    "\n",
    "print(resta1)"
   ]
  },
  {
   "cell_type": "code",
   "execution_count": null,
   "id": "01ce9010",
   "metadata": {},
   "outputs": [
    {
     "name": "stdout",
     "output_type": "stream",
     "text": [
      "16\n"
     ]
    }
   ],
   "source": [
    "gatos2 = gatos * 2\n",
    "\n",
    "print(gatos2)"
   ]
  },
  {
   "cell_type": "code",
   "execution_count": null,
   "id": "308e149b",
   "metadata": {},
   "outputs": [
    {
     "name": "stdout",
     "output_type": "stream",
     "text": [
      "16.0\n"
     ]
    }
   ],
   "source": [
    "piezas = pizza * 8\n",
    "\n",
    "print(piezas)"
   ]
  },
  {
   "cell_type": "code",
   "execution_count": null,
   "id": "73ea54e1",
   "metadata": {},
   "outputs": [
    {
     "name": "stdout",
     "output_type": "stream",
     "text": [
      "16.0\n"
     ]
    }
   ],
   "source": [
    "piezas_incrementadas = piezas + 3  \n",
    "# o piezas += 3??????\n",
    "\n",
    "\n",
    "print(piezas)"
   ]
  },
  {
   "cell_type": "code",
   "execution_count": null,
   "id": "33f240a7",
   "metadata": {},
   "outputs": [
    {
     "name": "stdout",
     "output_type": "stream",
     "text": [
      "81\n"
     ]
    }
   ],
   "source": [
    "superficie = 9 ** 2\n",
    "\n",
    "print(superficie)"
   ]
  },
  {
   "cell_type": "code",
   "execution_count": null,
   "id": "91e0933b",
   "metadata": {},
   "outputs": [
    {
     "name": "stdout",
     "output_type": "stream",
     "text": [
      "10.125\n"
     ]
    }
   ],
   "source": [
    "superficie_por_gato = superficie / gatos\n",
    "\n",
    "print(superficie_por_gato)"
   ]
  },
  {
   "cell_type": "code",
   "execution_count": null,
   "id": "ec82ca2e",
   "metadata": {},
   "outputs": [
    {
     "name": "stdout",
     "output_type": "stream",
     "text": [
      "2.0\n"
     ]
    }
   ],
   "source": [
    "piezas_enteras_por_gato = piezas // gatos\n",
    "\n",
    "print(piezas_enteras_por_gato)"
   ]
  },
  {
   "cell_type": "code",
   "execution_count": null,
   "id": "91915a2b",
   "metadata": {},
   "outputs": [
    {
     "name": "stdout",
     "output_type": "stream",
     "text": [
      "-152.0\n"
     ]
    }
   ],
   "source": [
    "piezas_comidas = piezas - (gatos * 21)\n",
    "\n",
    "print(piezas_comidas)"
   ]
  },
  {
   "cell_type": "code",
   "execution_count": null,
   "id": "2431e4fe",
   "metadata": {},
   "outputs": [
    {
     "name": "stdout",
     "output_type": "stream",
     "text": [
      "102\n"
     ]
    }
   ],
   "source": [
    "superficie_cuadrada_por_gato = superficie_por_gato ** 2\n",
    "\n",
    "print(int(superficie_cuadrada_por_gato))"
   ]
  },
  {
   "cell_type": "code",
   "execution_count": null,
   "id": "b7158ab2",
   "metadata": {},
   "outputs": [
    {
     "name": "stdout",
     "output_type": "stream",
     "text": [
      "True\n"
     ]
    }
   ],
   "source": [
    "print(gatos>pizza)"
   ]
  },
  {
   "cell_type": "code",
   "execution_count": null,
   "id": "91930b15",
   "metadata": {},
   "outputs": [
    {
     "name": "stdout",
     "output_type": "stream",
     "text": [
      "True\n"
     ]
    }
   ],
   "source": [
    "print(gatos<superficie)"
   ]
  },
  {
   "cell_type": "code",
   "execution_count": null,
   "id": "349f2064",
   "metadata": {},
   "outputs": [
    {
     "name": "stdout",
     "output_type": "stream",
     "text": [
      "True\n"
     ]
    }
   ],
   "source": [
    "print(2 * pizza != gatos)"
   ]
  },
  {
   "cell_type": "code",
   "execution_count": null,
   "id": "5a2ea310",
   "metadata": {},
   "outputs": [
    {
     "name": "stdout",
     "output_type": "stream",
     "text": [
      "False\n"
     ]
    }
   ],
   "source": [
    "print(2 * pizza == gatos)"
   ]
  },
  {
   "cell_type": "code",
   "execution_count": null,
   "id": "483e34ff",
   "metadata": {},
   "outputs": [
    {
     "name": "stdout",
     "output_type": "stream",
     "text": [
      "Las condiciones se cumplen.\n"
     ]
    }
   ],
   "source": [
    "if piezas >= pizza and superficie != 0:\n",
    "    print(\"Las condiciones se cumplen.\")\n",
    "else:\n",
    "    print(\"Las condiciones no se cumplen\")"
   ]
  },
  {
   "cell_type": "code",
   "execution_count": null,
   "id": "eb17e385",
   "metadata": {},
   "outputs": [
    {
     "name": "stdout",
     "output_type": "stream",
     "text": [
      "Las condiciones no se cumplen.\n"
     ]
    }
   ],
   "source": [
    "if piezas >= pizza and superficie < 0:\n",
    "    print(\"Las condiciones se cumplen.\")\n",
    "else:\n",
    "    print(\"Las condiciones no se cumplen.\")"
   ]
  },
  {
   "cell_type": "code",
   "execution_count": null,
   "id": "c012da4f",
   "metadata": {},
   "outputs": [
    {
     "name": "stdout",
     "output_type": "stream",
     "text": [
      "Se cumple al menos una de las condiciones.\n"
     ]
    }
   ],
   "source": [
    "if pizza > gatos or piezas % gatos == 0:\n",
    "    print(\"Se cumple al menos una de las condiciones.\")\n",
    "else:\n",
    "    print(\"Ninguna de las condiciones se cumple.\")"
   ]
  },
  {
   "cell_type": "markdown",
   "id": "1263bcc2",
   "metadata": {},
   "source": [
    "Comprueba las comparaciones de 29. en una sola línea, sin usar la variable piezas más que una sola vez ?????"
   ]
  },
  {
   "cell_type": "code",
   "execution_count": null,
   "id": "a41e3c88",
   "metadata": {},
   "outputs": [
    {
     "name": "stdout",
     "output_type": "stream",
     "text": [
      "superficie es diferente a cero.\n"
     ]
    }
   ],
   "source": [
    "if superficie:\n",
    "    print(\"superficie es diferente a cero.\")\n",
    "else:\n",
    "    print(\"superficie es igual a cero.\")"
   ]
  },
  {
   "cell_type": "code",
   "execution_count": null,
   "id": "595ac676",
   "metadata": {},
   "outputs": [
    {
     "name": "stdout",
     "output_type": "stream",
     "text": [
      "Tu cumpleaños es el día: \n"
     ]
    }
   ],
   "source": [
    "dia_cumple = input(\"¿Qué día es tu cumpleaños?\")\n",
    "\n",
    "print(\"Tu cumpleaños es el día:\", dia_cumple)"
   ]
  },
  {
   "cell_type": "code",
   "execution_count": null,
   "id": "8473d47f",
   "metadata": {},
   "outputs": [],
   "source": [
    "mes_cumple = input(\"¿Qué mes es tu cumpleaños?\")\n",
    "\n",
    "print(\"Tu mes de cumpleaños es\", mes_cumple)"
   ]
  },
  {
   "cell_type": "code",
   "execution_count": null,
   "id": "4848f9ab",
   "metadata": {},
   "outputs": [
    {
     "name": "stdout",
     "output_type": "stream",
     "text": [
      "Tu cumpleaños es el dia: \n",
      "Tu mes de cumpleaños es: \n"
     ]
    }
   ],
   "source": [
    "dia_cumple = (dia_cumple.strip())\n",
    "mes_cumple = mes_cumple.strip()\n",
    "\n",
    "print(\"Tu cumpleaños es el dia:\", dia_cumple)\n",
    "print(\"Tu mes de cumpleaños es:\", mes_cumple)\n",
    "\n",
    "\n",
    "dia_cumple = input(\"¿Qué día es tu cumpleaños? \").strip()\n",
    "mes_cumple = input(\"¿En qué mes es tu cumpleaños? \").strip()\n"
   ]
  },
  {
   "cell_type": "code",
   "execution_count": null,
   "id": "a7535d1d",
   "metadata": {},
   "outputs": [],
   "source": [
    "fecha_cumple = dia_cumple, mes_cumple\n",
    "\n",
    "fecha_cumple = dia_cumple + \" \" + mes_cumple\n",
    "\n"
   ]
  },
  {
   "cell_type": "code",
   "execution_count": null,
   "id": "2a1d35f5",
   "metadata": {},
   "outputs": [
    {
     "name": "stdout",
     "output_type": "stream",
     "text": [
      " \n"
     ]
    }
   ],
   "source": [
    "print(fecha_cumple)"
   ]
  },
  {
   "cell_type": "code",
   "execution_count": null,
   "id": "0339fbb5",
   "metadata": {},
   "outputs": [
    {
     "name": "stdout",
     "output_type": "stream",
     "text": [
      "CUATRO\n"
     ]
    }
   ],
   "source": [
    "print(perros.upper())"
   ]
  }
 ],
 "metadata": {
  "kernelspec": {
   "display_name": "base",
   "language": "python",
   "name": "python3"
  },
  "language_info": {
   "codemirror_mode": {
    "name": "ipython",
    "version": 3
   },
   "file_extension": ".py",
   "mimetype": "text/x-python",
   "name": "python",
   "nbconvert_exporter": "python",
   "pygments_lexer": "ipython3",
   "version": "3.12.7"
  }
 },
 "nbformat": 4,
 "nbformat_minor": 5
}
