{
 "cells": [
  {
   "cell_type": "code",
   "execution_count": 4,
   "id": "8f9c564a",
   "metadata": {},
   "outputs": [],
   "source": [
    "colores = [\"azul\", \"amarillo\", \"rojo\", \"verde\", \"negro\", \"blanco\"]\n"
   ]
  },
  {
   "cell_type": "code",
   "execution_count": 5,
   "id": "6fb1fab7",
   "metadata": {},
   "outputs": [],
   "source": [
    "buses = [543, 42, 18]\n"
   ]
  },
  {
   "cell_type": "code",
   "execution_count": 6,
   "id": "79e5fbde",
   "metadata": {},
   "outputs": [],
   "source": [
    "temperatura = [21, 22, 20, 21, 23]"
   ]
  },
  {
   "cell_type": "code",
   "execution_count": 7,
   "id": "66c43a5b",
   "metadata": {},
   "outputs": [
    {
     "data": {
      "text/plain": [
       "['L', 'u', 'c', 'i', 'a', 'n', 'a']"
      ]
     },
     "execution_count": 7,
     "metadata": {},
     "output_type": "execute_result"
    }
   ],
   "source": [
    "nombre = \"Luciana\"\n",
    "list(nombre)\n"
   ]
  },
  {
   "cell_type": "code",
   "execution_count": 1,
   "id": "d115bbf0",
   "metadata": {},
   "outputs": [
    {
     "data": {
      "text/plain": [
       "['Y', 'e', 'l', 'i', 'c', 'i', 'c', 'h']"
      ]
     },
     "execution_count": 1,
     "metadata": {},
     "output_type": "execute_result"
    }
   ],
   "source": [
    "apellido = \"Yelicich\"\n",
    "list(apellido)"
   ]
  },
  {
   "cell_type": "code",
   "execution_count": 8,
   "id": "06ce0375",
   "metadata": {},
   "outputs": [
    {
     "data": {
      "text/plain": [
       "3"
      ]
     },
     "execution_count": 8,
     "metadata": {},
     "output_type": "execute_result"
    }
   ],
   "source": [
    "len(buses)"
   ]
  },
  {
   "cell_type": "code",
   "execution_count": 9,
   "id": "6ffbf444",
   "metadata": {},
   "outputs": [
    {
     "data": {
      "text/plain": [
       "8"
      ]
     },
     "execution_count": 9,
     "metadata": {},
     "output_type": "execute_result"
    }
   ],
   "source": [
    "len(apellido)"
   ]
  },
  {
   "cell_type": "code",
   "execution_count": 10,
   "id": "2307393a",
   "metadata": {},
   "outputs": [
    {
     "data": {
      "text/plain": [
       "20"
      ]
     },
     "execution_count": 10,
     "metadata": {},
     "output_type": "execute_result"
    }
   ],
   "source": [
    "min(temperatura)"
   ]
  },
  {
   "cell_type": "code",
   "execution_count": 11,
   "id": "1f91d56b",
   "metadata": {},
   "outputs": [
    {
     "data": {
      "text/plain": [
       "23"
      ]
     },
     "execution_count": 11,
     "metadata": {},
     "output_type": "execute_result"
    }
   ],
   "source": [
    "max(temperatura)"
   ]
  },
  {
   "cell_type": "code",
   "execution_count": 12,
   "id": "63041821",
   "metadata": {},
   "outputs": [
    {
     "data": {
      "text/plain": [
       "True"
      ]
     },
     "execution_count": 12,
     "metadata": {},
     "output_type": "execute_result"
    }
   ],
   "source": [
    "\"e\" in apellido"
   ]
  },
  {
   "cell_type": "code",
   "execution_count": 13,
   "id": "0649336a",
   "metadata": {},
   "outputs": [
    {
     "data": {
      "text/plain": [
       "False"
      ]
     },
     "execution_count": 13,
     "metadata": {},
     "output_type": "execute_result"
    }
   ],
   "source": [
    "\"rosa\" in colores"
   ]
  },
  {
   "cell_type": "code",
   "execution_count": 14,
   "id": "ebfd2394",
   "metadata": {},
   "outputs": [
    {
     "data": {
      "text/plain": [
       "True"
      ]
     },
     "execution_count": 14,
     "metadata": {},
     "output_type": "execute_result"
    }
   ],
   "source": [
    "\"x\" not in apellido"
   ]
  },
  {
   "cell_type": "code",
   "execution_count": 17,
   "id": "9b4f7864",
   "metadata": {},
   "outputs": [],
   "source": [
    "temperatura2=temperatura.copy()"
   ]
  },
  {
   "cell_type": "code",
   "execution_count": 18,
   "id": "fce07bdb",
   "metadata": {},
   "outputs": [],
   "source": [
    "temperatura3=temperatura.copy()"
   ]
  },
  {
   "cell_type": "code",
   "execution_count": 19,
   "id": "20f56a85",
   "metadata": {},
   "outputs": [],
   "source": [
    "temperatura2.clear()"
   ]
  },
  {
   "cell_type": "code",
   "execution_count": 20,
   "id": "e95f80e2",
   "metadata": {},
   "outputs": [
    {
     "data": {
      "text/plain": [
       "0"
      ]
     },
     "execution_count": 20,
     "metadata": {},
     "output_type": "execute_result"
    }
   ],
   "source": [
    "len(temperatura2)"
   ]
  },
  {
   "cell_type": "code",
   "execution_count": 21,
   "id": "f253123d",
   "metadata": {},
   "outputs": [
    {
     "name": "stdout",
     "output_type": "stream",
     "text": [
      "[21, 22, 20, 21, 23]\n"
     ]
    }
   ],
   "source": [
    "print(temperatura)"
   ]
  },
  {
   "cell_type": "code",
   "execution_count": 22,
   "id": "afab9d2b",
   "metadata": {},
   "outputs": [
    {
     "name": "stdout",
     "output_type": "stream",
     "text": [
      "[]\n"
     ]
    }
   ],
   "source": [
    "print(temperatura2)"
   ]
  },
  {
   "cell_type": "code",
   "execution_count": 27,
   "id": "135c66f8",
   "metadata": {},
   "outputs": [
    {
     "name": "stdout",
     "output_type": "stream",
     "text": [
      "['L', 'u', 'c', 'i', 'a', 'n', 'a']\n"
     ]
    }
   ],
   "source": [
    "nombre2 = list(nombre)\n",
    "print(nombre2)"
   ]
  },
  {
   "cell_type": "code",
   "execution_count": 29,
   "id": "9ee8aa25",
   "metadata": {},
   "outputs": [
    {
     "data": {
      "text/plain": [
       "['L', 'u', 'c', 'i', 'a', 'n', 'a']"
      ]
     },
     "execution_count": 29,
     "metadata": {},
     "output_type": "execute_result"
    }
   ],
   "source": [
    "nombre2.copy()"
   ]
  },
  {
   "cell_type": "code",
   "execution_count": 28,
   "id": "6f2cf2b3",
   "metadata": {},
   "outputs": [
    {
     "name": "stdout",
     "output_type": "stream",
     "text": [
      "['Y', 'e', 'l', 'i', 'c', 'i', 'c', 'h']\n"
     ]
    }
   ],
   "source": [
    "apellido2 = list(apellido)\n",
    "print(apellido2)"
   ]
  },
  {
   "cell_type": "code",
   "execution_count": 34,
   "id": "df92c1b4",
   "metadata": {},
   "outputs": [
    {
     "name": "stdout",
     "output_type": "stream",
     "text": [
      "[23, 22, 21, 21, 20]\n"
     ]
    }
   ],
   "source": [
    "temperatura3.sort(reverse=True)\n",
    "print(temperatura3)"
   ]
  },
  {
   "cell_type": "code",
   "execution_count": 35,
   "id": "d2c4e246",
   "metadata": {},
   "outputs": [],
   "source": [
    "nombre2.sort()"
   ]
  },
  {
   "cell_type": "code",
   "execution_count": 36,
   "id": "0e66e5df",
   "metadata": {},
   "outputs": [
    {
     "data": {
      "text/plain": [
       "['L', 'a', 'a', 'c', 'i', 'n', 'u']"
      ]
     },
     "execution_count": 36,
     "metadata": {},
     "output_type": "execute_result"
    }
   ],
   "source": [
    "nombre2"
   ]
  },
  {
   "cell_type": "code",
   "execution_count": 37,
   "id": "1aac882b",
   "metadata": {},
   "outputs": [],
   "source": [
    "apellido2.sort()"
   ]
  },
  {
   "cell_type": "code",
   "execution_count": 38,
   "id": "05388f74",
   "metadata": {},
   "outputs": [
    {
     "data": {
      "text/plain": [
       "['Y', 'c', 'c', 'e', 'h', 'i', 'i', 'l']"
      ]
     },
     "execution_count": 38,
     "metadata": {},
     "output_type": "execute_result"
    }
   ],
   "source": [
    "apellido2"
   ]
  },
  {
   "cell_type": "code",
   "execution_count": 41,
   "id": "1b97b557",
   "metadata": {},
   "outputs": [
    {
     "data": {
      "text/plain": [
       "2"
      ]
     },
     "execution_count": 41,
     "metadata": {},
     "output_type": "execute_result"
    }
   ],
   "source": [
    "nombre2.count(\"a\")"
   ]
  },
  {
   "cell_type": "code",
   "execution_count": 42,
   "id": "95a14038",
   "metadata": {},
   "outputs": [
    {
     "data": {
      "text/plain": [
       "0"
      ]
     },
     "execution_count": 42,
     "metadata": {},
     "output_type": "execute_result"
    }
   ],
   "source": [
    "nombre2.count(\"o\")"
   ]
  },
  {
   "cell_type": "code",
   "execution_count": null,
   "id": "a2692971",
   "metadata": {},
   "outputs": [],
   "source": []
  }
 ],
 "metadata": {
  "kernelspec": {
   "display_name": "base",
   "language": "python",
   "name": "python3"
  },
  "language_info": {
   "codemirror_mode": {
    "name": "ipython",
    "version": 3
   },
   "file_extension": ".py",
   "mimetype": "text/x-python",
   "name": "python",
   "nbconvert_exporter": "python",
   "pygments_lexer": "ipython3",
   "version": "3.12.7"
  }
 },
 "nbformat": 4,
 "nbformat_minor": 5
}
